{
  "cells": [
    {
      "cell_type": "code",
      "execution_count": null,
      "metadata": {
        "id": "uwD3ge8hpHv9"
      },
      "outputs": [],
      "source": []
    },
    {
      "cell_type": "markdown",
      "metadata": {
        "id": "S_zFjJD54gR8"
      },
      "source": [
        "# Анализ тональности"
      ]
    },
    {
      "cell_type": "markdown",
      "metadata": {
        "id": "PdNd42E4mWqO"
      },
      "source": [
        "Запусти этот блок один раз за сеанс пользования (если ты закрыл компьютер и решил снова воспользоваться инструментом, перезапусти этот блок)"
      ]
    },
    {
      "cell_type": "code",
      "execution_count": null,
      "metadata": {
        "colab": {
          "base_uri": "https://localhost:8080/",
          "height": 336,
          "referenced_widgets": [
            "b16a0648232b49fbbb1292dfaa3b2605",
            "e030536e38e34e5c9c42f09346b04fc5",
            "5a1a7158b71e4352913798e6db30eb96",
            "e6f2f00c57074916a50fc72a071b251b",
            "174262440d8d49d8a7f53de49e9778ee",
            "4182fe90a43d47cda98d0a562d1dadd5",
            "e12e2cd22e10443bbcea0f6187ca822e",
            "21f6916678894701ac7ebe0609a2ae00",
            "efe20f538dd74d1e894bd515bff81123",
            "41ff77ed80af49ee93e004483a854350",
            "0d108ec4864440e582a32e0f6d6cb325",
            "8d6b3546f8f14848868bb8a92e34f0bf",
            "f6f99cecb122461c97d95a2ce55693b3",
            "f4728b131a534ee39895f345a5fdd0ee",
            "0a039a4c3dac402eb3f930fd4af3883d",
            "6efef8ad9a4b4a67984c5dc94f3836f9",
            "432bc7aac1474d23b15ceef27eb92bbd",
            "c37bbd1734084308811729922649f72f",
            "d6c8b699909440d89850e56a8e1030e1",
            "51aa046585384b8dade4db11a6c50e24",
            "08f834c57b4d477d85871a931d44cace",
            "d020f4b988174664aa49b2acf059849e",
            "4ce9b973d41f40b595eff4e433b50c40",
            "881eddf449994ac986dcd09db8864e02",
            "4dfd21d39df04d7ca43ab4cc3c6d38e1",
            "f24a3e69bdb64e70b08c3c30e8712bcc",
            "3945f0b2583040a48532daf658ad3146",
            "537cd48e2ac442ae8eaf8c9774dd3df4",
            "463a7b5b2fd74cfc809aadd57b2ba2ac",
            "7ccd70f9d4744530a7957b25028b908b",
            "876346044522446c9368168e5f0d57af",
            "d33904da497b4a9c831684669471524d",
            "8d4a996f7f8347cc817504f23a02f814",
            "5ff62c1468124601bb579e5b66c0b65f",
            "122ea636f0a94cb4864ee6bb894cfd44",
            "b1d5813cbf174f9fbcb2feb34ba0d849",
            "f0285bf485a24955ab3a1ad417950d4d",
            "c0d4694ca22244a68418a230f1c16ad6",
            "d7d731da13514223adebb3dcb3baa7c1",
            "68205ae60ee44cfd9537896bf4a6c445",
            "7de7dfb9bfa44b69b61430d4d239b4c9",
            "e97a2857ba9c4aa9924b84e8bc648564",
            "0b912af632f6432680773446675c034b",
            "d0926f556f33426383e2d17e494fd5ba",
            "3f0ce19a964d4778b4711fe3e4fc1cc3",
            "77280d2d2bb14c36bbe2425f3936b140",
            "948cefea706a4857bbe5c08ab0916e4a",
            "f3821c357bba442a945d3e07a71c0c62",
            "a1732cca99544b9cac1020fdad6eea40",
            "75b16b2f55e84074a15ea54be7028209",
            "ca4a732b29014ecb87481d06bcfdb04d",
            "9da10b1f345d4fddad2682549652904e",
            "b292d9cded0c49ad87e2161af7470735",
            "999e8b967a054916bad77466f1e15b4e",
            "51100b63c5984534ab0b68d1f6c3c857"
          ]
        },
        "id": "LwhtV6RM4eTL",
        "outputId": "5ff5147d-99e7-440c-dcf7-f778904d35d4"
      },
      "outputs": [
        {
          "name": "stderr",
          "output_type": "stream",
          "text": [
            "/usr/local/lib/python3.10/dist-packages/huggingface_hub/utils/_token.py:89: UserWarning: \n",
            "The secret `HF_TOKEN` does not exist in your Colab secrets.\n",
            "To authenticate with the Hugging Face Hub, create a token in your settings tab (https://huggingface.co/settings/tokens), set it as secret in your Google Colab and restart your session.\n",
            "You will be able to reuse this secret in all of your notebooks.\n",
            "Please note that authentication is recommended but still optional to access public models or datasets.\n",
            "  warnings.warn(\n"
          ]
        },
        {
          "data": {
            "application/vnd.jupyter.widget-view+json": {
              "model_id": "b16a0648232b49fbbb1292dfaa3b2605",
              "version_major": 2,
              "version_minor": 0
            },
            "text/plain": [
              "config.json:   0%|          | 0.00/943 [00:00<?, ?B/s]"
            ]
          },
          "metadata": {},
          "output_type": "display_data"
        },
        {
          "data": {
            "application/vnd.jupyter.widget-view+json": {
              "model_id": "8d6b3546f8f14848868bb8a92e34f0bf",
              "version_major": 2,
              "version_minor": 0
            },
            "text/plain": [
              "model.safetensors:   0%|          | 0.00/711M [00:00<?, ?B/s]"
            ]
          },
          "metadata": {},
          "output_type": "display_data"
        },
        {
          "data": {
            "application/vnd.jupyter.widget-view+json": {
              "model_id": "4ce9b973d41f40b595eff4e433b50c40",
              "version_major": 2,
              "version_minor": 0
            },
            "text/plain": [
              "tokenizer_config.json:   0%|          | 0.00/499 [00:00<?, ?B/s]"
            ]
          },
          "metadata": {},
          "output_type": "display_data"
        },
        {
          "data": {
            "application/vnd.jupyter.widget-view+json": {
              "model_id": "5ff62c1468124601bb579e5b66c0b65f",
              "version_major": 2,
              "version_minor": 0
            },
            "text/plain": [
              "vocab.txt:   0%|          | 0.00/1.40M [00:00<?, ?B/s]"
            ]
          },
          "metadata": {},
          "output_type": "display_data"
        },
        {
          "data": {
            "application/vnd.jupyter.widget-view+json": {
              "model_id": "3f0ce19a964d4778b4711fe3e4fc1cc3",
              "version_major": 2,
              "version_minor": 0
            },
            "text/plain": [
              "special_tokens_map.json:   0%|          | 0.00/112 [00:00<?, ?B/s]"
            ]
          },
          "metadata": {},
          "output_type": "display_data"
        },
        {
          "name": "stderr",
          "output_type": "stream",
          "text": [
            "/usr/local/lib/python3.10/dist-packages/transformers/tokenization_utils_base.py:1601: FutureWarning: `clean_up_tokenization_spaces` was not set. It will be set to `True` by default. This behavior will be depracted in transformers v4.45, and will be then set to `False` by default. For more details check this issue: https://github.com/huggingface/transformers/issues/31884\n",
            "  warnings.warn(\n"
          ]
        }
      ],
      "source": [
        "from transformers import pipeline\n",
        "\n",
        "# Создаем предобученный классификатор тональности\n",
        "classifier = pipeline(\"sentiment-analysis\", model=\"blanchefort/rubert-base-cased-sentiment\")\n",
        "\n"
      ]
    },
    {
      "cell_type": "markdown",
      "metadata": {
        "id": "XFqy49hJogJt"
      },
      "source": [
        "##ЭТО ПРИМЕРЫ ИСПОЛЬЗОВАНИЯ"
      ]
    },
    {
      "cell_type": "code",
      "execution_count": null,
      "metadata": {
        "colab": {
          "base_uri": "https://localhost:8080/"
        },
        "id": "iyHhjjUb4sqE",
        "outputId": "af0d9a77-b8de-47fc-f5b9-cd3639296df9"
      },
      "outputs": [
        {
          "name": "stdout",
          "output_type": "stream",
          "text": [
            "Комментарий: Увы но в этом модуле не чего не понятно от слово совсем, я даже к другим модулям вернулся думаю что что0то упустил, вернувшись к этому модулю все ровно нечего не понял, я к тому что, возможно други поняли, но для меня когда я читал и вникся в этот модуль, юыло такое чувство что по всему модулю обьяснения было раскинуто, нечего от слово совсем не понял\n",
            "Тональность: NEGATIVE\n",
            "Уверенность: 0.75\n"
          ]
        }
      ],
      "source": [
        "# Пример комментария для анализа\n",
        "negative_comment = \"\"\n",
        "# Анализ тональности комментария\n",
        "result = classifier(negative_comment)\n",
        "\n",
        "# Вывод результата\n",
        "print(f\"Комментарий: {negative_comment}\")\n",
        "print(f\"Тональность: {result[0]['label']}\")\n",
        "print(f\"Уверенность: {result[0]['score']:.2f}\")\n"
      ]
    },
    {
      "cell_type": "code",
      "execution_count": null,
      "metadata": {
        "id": "w6PbcERI6UR1"
      },
      "outputs": [],
      "source": [
        "neutral_comment = \"\"\n",
        "\n",
        "# Вывод результата 2\n",
        "result = classifier(neutral_comment)\n",
        "print(f\"Комментарий: {neutral_comment}\")\n",
        "print(f\"Тональность: {result[0]['label']}\")\n",
        "print(f\"Уверенность: {result[0]['score']:.2f}\")"
      ]
    },
    {
      "cell_type": "code",
      "execution_count": null,
      "metadata": {
        "colab": {
          "base_uri": "https://localhost:8080/",
          "height": 211
        },
        "id": "FyrGO-EI7toT",
        "outputId": "ad5f7e41-c74f-463a-d207-fd751ce60781"
      },
      "outputs": [
        {
          "ename": "NameError",
          "evalue": "name 'classifier' is not defined",
          "output_type": "error",
          "traceback": [
            "\u001b[0;31m---------------------------------------------------------------------------\u001b[0m",
            "\u001b[0;31mNameError\u001b[0m                                 Traceback (most recent call last)",
            "\u001b[0;32m<ipython-input-1-c907de78e999>\u001b[0m in \u001b[0;36m<cell line: 7>\u001b[0;34m()\u001b[0m\n\u001b[1;32m      5\u001b[0m \u001b[0;34m\u001b[0m\u001b[0m\n\u001b[1;32m      6\u001b[0m \u001b[0;31m# Вывод результата 2\u001b[0m\u001b[0;34m\u001b[0m\u001b[0;34m\u001b[0m\u001b[0m\n\u001b[0;32m----> 7\u001b[0;31m \u001b[0mresult\u001b[0m \u001b[0;34m=\u001b[0m \u001b[0mclassifier\u001b[0m\u001b[0;34m(\u001b[0m\u001b[0mneutral_comment\u001b[0m\u001b[0;34m)\u001b[0m\u001b[0;34m\u001b[0m\u001b[0;34m\u001b[0m\u001b[0m\n\u001b[0m\u001b[1;32m      8\u001b[0m \u001b[0mprint\u001b[0m\u001b[0;34m(\u001b[0m\u001b[0;34mf\"Комментарий: {neutral_comment}\"\u001b[0m\u001b[0;34m)\u001b[0m\u001b[0;34m\u001b[0m\u001b[0;34m\u001b[0m\u001b[0m\n\u001b[1;32m      9\u001b[0m \u001b[0mprint\u001b[0m\u001b[0;34m(\u001b[0m\u001b[0;34mf\"Тональность: {result[0]['label']}\"\u001b[0m\u001b[0;34m)\u001b[0m\u001b[0;34m\u001b[0m\u001b[0;34m\u001b[0m\u001b[0m\n",
            "\u001b[0;31mNameError\u001b[0m: name 'classifier' is not defined"
          ]
        }
      ],
      "source": [
        "neutral_comment = \"Очень понравилось в Московском зоопарке прямо с самого входа. Везде чистенько, ухожено. Много зелени, цветов. Красиво.\\\n",
        "Ухоженные и чистые животные. И довольные, что самое важное.\\\n",
        "Постоянно на виду множество сотрудников зоопарка, которые ухаживают за территорией, за животными, за растениями.\\\n",
        "Очень приятно наблюдать за трогательными взаимоотношениями киперов и животных. Столько любви и доверия мало где увидишь ;-)\"\n",
        "\n",
        "# Вывод результата 2\n",
        "result = classifier(neutral_comment)\n",
        "print(f\"Комментарий: {neutral_comment}\")\n",
        "print(f\"Тональность: {result[0]['label']}\")\n",
        "print(f\"Уверенность: {result[0]['score']:.2f}\")"
      ]
    },
    {
      "cell_type": "code",
      "execution_count": null,
      "metadata": {
        "colab": {
          "base_uri": "https://localhost:8080/"
        },
        "id": "akdPFa3d7-1C",
        "outputId": "7ff10ed3-7570-4688-8661-d86cb53be509"
      },
      "outputs": [
        {
          "name": "stdout",
          "output_type": "stream",
          "text": [
            "Комментарий: Спасибо, информация хорошо осваиваемая, Вам больше спасибо!    \n",
            "Тональность: POSITIVE\n",
            "Уверенность: 0.98\n"
          ]
        }
      ],
      "source": [
        "\n",
        "positive_comment = \"Спасибо, информация хорошо осваиваемая, Вам больше спасибо!    \"\n",
        "# Вывод результата 2\n",
        "result = classifier(positive_comment)\n",
        "print(f\"Комментарий: {positive_comment}\")\n",
        "print(f\"Тональность: {result[0]['label']}\")\n",
        "print(f\"Уверенность: {result[0]['score']:.2f}\")"
      ]
    },
    {
      "cell_type": "markdown",
      "metadata": {
        "id": "sl7_RDdVojdV"
      },
      "source": [
        "##СЮДА МОЖНО ВСТАВИТЬ СВОЙ ТЕКСТ, внутрь кавычек"
      ]
    },
    {
      "cell_type": "code",
      "execution_count": null,
      "metadata": {
        "colab": {
          "base_uri": "https://localhost:8080/"
        },
        "id": "lzn3R5GumzRu",
        "outputId": "936ec95f-ce86-45f4-9b65-50f5e5bb8ffe"
      },
      "outputs": [
        {
          "name": "stdout",
          "output_type": "stream",
          "text": [
            "Комментарий: Cюда можешь вставлять свой текст\n",
            "Тональность: NEUTRAL\n",
            "Уверенность: 0.83\n"
          ]
        }
      ],
      "source": [
        "your_comment = \"Cюда можешь вставлять свой текст\"\n",
        "# Вывод результата 2\n",
        "result = classifier(your_comment)\n",
        "print(f\"Комментарий: {your_comment}\")\n",
        "print(f\"Тональность: {result[0]['label']}\")\n",
        "print(f\"Уверенность: {result[0]['score']:.2f}\")"
      ]
    },
    {
      "cell_type": "markdown",
      "metadata": {
        "id": "va0bd_A_8_YH"
      },
      "source": [
        "# Распознавание текста"
      ]
    },
    {
      "cell_type": "markdown",
      "metadata": {
        "id": "NnnDJZBjov-r"
      },
      "source": [
        "Запусти этот блок один раз за сеанс пользования (если ты закрыл компьютер и решил снова воспользоваться инструментом, перезапусти этот блок)"
      ]
    },
    {
      "cell_type": "code",
      "execution_count": null,
      "metadata": {
        "colab": {
          "base_uri": "https://localhost:8080/"
        },
        "id": "1wxIWi-UB4Gi",
        "outputId": "eeecb65d-b0ca-48fe-f702-7d5616aa21f1"
      },
      "outputs": [
        {
          "name": "stdout",
          "output_type": "stream",
          "text": [
            "Collecting gitpython\n",
            "  Downloading GitPython-3.1.43-py3-none-any.whl.metadata (13 kB)\n",
            "Requirement already satisfied: pydub in /usr/local/lib/python3.10/dist-packages (0.25.1)\n",
            "Collecting speechrecognition\n",
            "  Downloading SpeechRecognition-3.10.4-py2.py3-none-any.whl.metadata (28 kB)\n",
            "Collecting gitdb<5,>=4.0.1 (from gitpython)\n",
            "  Downloading gitdb-4.0.11-py3-none-any.whl.metadata (1.2 kB)\n",
            "Requirement already satisfied: requests>=2.26.0 in /usr/local/lib/python3.10/dist-packages (from speechrecognition) (2.32.3)\n",
            "Requirement already satisfied: typing-extensions in /usr/local/lib/python3.10/dist-packages (from speechrecognition) (4.12.2)\n",
            "Collecting smmap<6,>=3.0.1 (from gitdb<5,>=4.0.1->gitpython)\n",
            "  Downloading smmap-5.0.1-py3-none-any.whl.metadata (4.3 kB)\n",
            "Requirement already satisfied: charset-normalizer<4,>=2 in /usr/local/lib/python3.10/dist-packages (from requests>=2.26.0->speechrecognition) (3.3.2)\n",
            "Requirement already satisfied: idna<4,>=2.5 in /usr/local/lib/python3.10/dist-packages (from requests>=2.26.0->speechrecognition) (3.8)\n",
            "Requirement already satisfied: urllib3<3,>=1.21.1 in /usr/local/lib/python3.10/dist-packages (from requests>=2.26.0->speechrecognition) (2.0.7)\n",
            "Requirement already satisfied: certifi>=2017.4.17 in /usr/local/lib/python3.10/dist-packages (from requests>=2.26.0->speechrecognition) (2024.8.30)\n",
            "Downloading GitPython-3.1.43-py3-none-any.whl (207 kB)\n",
            "\u001b[2K   \u001b[90m━━━━━━━━━━━━━━━━━━━━━━━━━━━━━━━━━━━━━━━━\u001b[0m \u001b[32m207.3/207.3 kB\u001b[0m \u001b[31m2.0 MB/s\u001b[0m eta \u001b[36m0:00:00\u001b[0m\n",
            "\u001b[?25hDownloading SpeechRecognition-3.10.4-py2.py3-none-any.whl (32.8 MB)\n",
            "\u001b[2K   \u001b[90m━━━━━━━━━━━━━━━━━━━━━━━━━━━━━━━━━━━━━━━━\u001b[0m \u001b[32m32.8/32.8 MB\u001b[0m \u001b[31m25.9 MB/s\u001b[0m eta \u001b[36m0:00:00\u001b[0m\n",
            "\u001b[?25hDownloading gitdb-4.0.11-py3-none-any.whl (62 kB)\n",
            "\u001b[2K   \u001b[90m━━━━━━━━━━━━━━━━━━━━━━━━━━━━━━━━━━━━━━━━\u001b[0m \u001b[32m62.7/62.7 kB\u001b[0m \u001b[31m3.7 MB/s\u001b[0m eta \u001b[36m0:00:00\u001b[0m\n",
            "\u001b[?25hDownloading smmap-5.0.1-py3-none-any.whl (24 kB)\n",
            "Installing collected packages: smmap, speechrecognition, gitdb, gitpython\n",
            "Successfully installed gitdb-4.0.11 gitpython-3.1.43 smmap-5.0.1 speechrecognition-3.10.4\n"
          ]
        }
      ],
      "source": [
        "!pip install gitpython pydub speechrecognition\n"
      ]
    },
    {
      "cell_type": "markdown",
      "metadata": {
        "id": "TcDJkgn3oxkN"
      },
      "source": [
        "## ПРИМЕР"
      ]
    },
    {
      "cell_type": "code",
      "execution_count": null,
      "metadata": {
        "colab": {
          "base_uri": "https://localhost:8080/"
        },
        "id": "M_xhVKe19J1w",
        "outputId": "490b9fef-c437-4846-a8be-7da85b03033e"
      },
      "outputs": [
        {
          "name": "stdout",
          "output_type": "stream",
          "text": [
            "Directory new already exists. Skipping clone.\n",
            "в это время в гостиную вошло Новое лицо Новое лицо Это был молодой князь Андрей Болконский муж маленькой княгини князь Болконский был небольшого роста весьма красивый молодой человек с определёнными и сухими чертами все в его фигуре начиная от усталого скучающего взгляда до Тихого мирного шага представляло самую резкую противоположность с его маленькую оживлённую жён\n"
          ]
        }
      ],
      "source": [
        "import os\n",
        "import subprocess\n",
        "from git import Repo\n",
        "from pydub import AudioSegment\n",
        "import speech_recognition as sr\n",
        "\n",
        "def clone_repo(repo_url, clone_dir):\n",
        "    if not os.path.exists(clone_dir):\n",
        "        Repo.clone_from(repo_url, clone_dir)\n",
        "    else:\n",
        "        print(f\"Directory {clone_dir} already exists. Skipping clone.\")\n",
        "\n",
        "def convert_ogg_to_wav(ogg_file_path, wav_file_path):\n",
        "    audio = AudioSegment.from_ogg(ogg_file_path)\n",
        "    audio.export(wav_file_path, format='wav')\n",
        "\n",
        "def transcribe_audio(wav_file_path):\n",
        "    recognizer = sr.Recognizer()\n",
        "    with sr.AudioFile(wav_file_path) as source:\n",
        "        audio_data = recognizer.record(source)\n",
        "        try:\n",
        "            text = recognizer.recognize_google(audio_data, language=\"ru-RU\")\n",
        "            return text\n",
        "        except sr.UnknownValueError:\n",
        "            return \"Could not understand audio\"\n",
        "        except sr.RequestError as e:\n",
        "            return f\"Could not request results; {e}\"\n",
        "\n",
        "def main():\n",
        "    repo_url = \"https://github.com/ilovetostudyit/edexpo\"\n",
        "    clone_dir = \"new\"\n",
        "\n",
        "    # Шаг 1: Клонирование репозитория\n",
        "    clone_repo(repo_url, clone_dir)\n",
        "\n",
        "    # Шаг 2: Задать путь к OGG файлу\n",
        "    ogg_file_path = os.path.join(clone_dir, \"audio_2024-09-09_21-21-27.ogg\")\n",
        "    wav_file_path = 'new/output.wav'\n",
        "\n",
        "    # Шаг 3: Конвертация OGG в WAV\n",
        "    convert_ogg_to_wav(ogg_file_path, wav_file_path)\n",
        "\n",
        "    # Шаг 4: Преобразование в текст\n",
        "    text = transcribe_audio(wav_file_path)\n",
        "    print(text)\n",
        "\n",
        "if __name__ == \"__main__\":\n",
        "    main()\n"
      ]
    },
    {
      "cell_type": "markdown",
      "metadata": {
        "id": "xZg4McAlD74l"
      },
      "source": [
        "## Запустите ячейку, загрузите свой звук в формате wav, получите расшифровку\n"
      ]
    },
    {
      "cell_type": "code",
      "execution_count": null,
      "metadata": {
        "colab": {
          "base_uri": "https://localhost:8080/",
          "height": 319
        },
        "id": "f7EBcnEuEDFG",
        "outputId": "f0c499ee-2f0c-4281-e928-c17d387b8d67"
      },
      "outputs": [
        {
          "name": "stdout",
          "output_type": "stream",
          "text": [
            "Collecting SpeechRecognition\n",
            "  Downloading SpeechRecognition-3.10.4-py2.py3-none-any.whl.metadata (28 kB)\n",
            "Requirement already satisfied: requests>=2.26.0 in /usr/local/lib/python3.10/dist-packages (from SpeechRecognition) (2.32.3)\n",
            "Requirement already satisfied: typing-extensions in /usr/local/lib/python3.10/dist-packages (from SpeechRecognition) (4.12.2)\n",
            "Requirement already satisfied: charset-normalizer<4,>=2 in /usr/local/lib/python3.10/dist-packages (from requests>=2.26.0->SpeechRecognition) (3.3.2)\n",
            "Requirement already satisfied: idna<4,>=2.5 in /usr/local/lib/python3.10/dist-packages (from requests>=2.26.0->SpeechRecognition) (3.10)\n",
            "Requirement already satisfied: urllib3<3,>=1.21.1 in /usr/local/lib/python3.10/dist-packages (from requests>=2.26.0->SpeechRecognition) (2.2.3)\n",
            "Requirement already satisfied: certifi>=2017.4.17 in /usr/local/lib/python3.10/dist-packages (from requests>=2.26.0->SpeechRecognition) (2024.8.30)\n",
            "Downloading SpeechRecognition-3.10.4-py2.py3-none-any.whl (32.8 MB)\n",
            "\u001b[2K   \u001b[90m━━━━━━━━━━━━━━━━━━━━━━━━━━━━━━━━━━━━━━━━\u001b[0m \u001b[32m32.8/32.8 MB\u001b[0m \u001b[31m11.0 MB/s\u001b[0m eta \u001b[36m0:00:00\u001b[0m\n",
            "\u001b[?25hInstalling collected packages: SpeechRecognition\n",
            "Successfully installed SpeechRecognition-3.10.4\n"
          ]
        },
        {
          "data": {
            "text/html": [
              "\n",
              "     <input type=\"file\" id=\"files-34c45cf7-b759-4452-a9d8-53187be6b056\" name=\"files[]\" multiple disabled\n",
              "        style=\"border:none\" />\n",
              "     <output id=\"result-34c45cf7-b759-4452-a9d8-53187be6b056\">\n",
              "      Upload widget is only available when the cell has been executed in the\n",
              "      current browser session. Please rerun this cell to enable.\n",
              "      </output>\n",
              "      <script>// Copyright 2017 Google LLC\n",
              "//\n",
              "// Licensed under the Apache License, Version 2.0 (the \"License\");\n",
              "// you may not use this file except in compliance with the License.\n",
              "// You may obtain a copy of the License at\n",
              "//\n",
              "//      http://www.apache.org/licenses/LICENSE-2.0\n",
              "//\n",
              "// Unless required by applicable law or agreed to in writing, software\n",
              "// distributed under the License is distributed on an \"AS IS\" BASIS,\n",
              "// WITHOUT WARRANTIES OR CONDITIONS OF ANY KIND, either express or implied.\n",
              "// See the License for the specific language governing permissions and\n",
              "// limitations under the License.\n",
              "\n",
              "/**\n",
              " * @fileoverview Helpers for google.colab Python module.\n",
              " */\n",
              "(function(scope) {\n",
              "function span(text, styleAttributes = {}) {\n",
              "  const element = document.createElement('span');\n",
              "  element.textContent = text;\n",
              "  for (const key of Object.keys(styleAttributes)) {\n",
              "    element.style[key] = styleAttributes[key];\n",
              "  }\n",
              "  return element;\n",
              "}\n",
              "\n",
              "// Max number of bytes which will be uploaded at a time.\n",
              "const MAX_PAYLOAD_SIZE = 100 * 1024;\n",
              "\n",
              "function _uploadFiles(inputId, outputId) {\n",
              "  const steps = uploadFilesStep(inputId, outputId);\n",
              "  const outputElement = document.getElementById(outputId);\n",
              "  // Cache steps on the outputElement to make it available for the next call\n",
              "  // to uploadFilesContinue from Python.\n",
              "  outputElement.steps = steps;\n",
              "\n",
              "  return _uploadFilesContinue(outputId);\n",
              "}\n",
              "\n",
              "// This is roughly an async generator (not supported in the browser yet),\n",
              "// where there are multiple asynchronous steps and the Python side is going\n",
              "// to poll for completion of each step.\n",
              "// This uses a Promise to block the python side on completion of each step,\n",
              "// then passes the result of the previous step as the input to the next step.\n",
              "function _uploadFilesContinue(outputId) {\n",
              "  const outputElement = document.getElementById(outputId);\n",
              "  const steps = outputElement.steps;\n",
              "\n",
              "  const next = steps.next(outputElement.lastPromiseValue);\n",
              "  return Promise.resolve(next.value.promise).then((value) => {\n",
              "    // Cache the last promise value to make it available to the next\n",
              "    // step of the generator.\n",
              "    outputElement.lastPromiseValue = value;\n",
              "    return next.value.response;\n",
              "  });\n",
              "}\n",
              "\n",
              "/**\n",
              " * Generator function which is called between each async step of the upload\n",
              " * process.\n",
              " * @param {string} inputId Element ID of the input file picker element.\n",
              " * @param {string} outputId Element ID of the output display.\n",
              " * @return {!Iterable<!Object>} Iterable of next steps.\n",
              " */\n",
              "function* uploadFilesStep(inputId, outputId) {\n",
              "  const inputElement = document.getElementById(inputId);\n",
              "  inputElement.disabled = false;\n",
              "\n",
              "  const outputElement = document.getElementById(outputId);\n",
              "  outputElement.innerHTML = '';\n",
              "\n",
              "  const pickedPromise = new Promise((resolve) => {\n",
              "    inputElement.addEventListener('change', (e) => {\n",
              "      resolve(e.target.files);\n",
              "    });\n",
              "  });\n",
              "\n",
              "  const cancel = document.createElement('button');\n",
              "  inputElement.parentElement.appendChild(cancel);\n",
              "  cancel.textContent = 'Cancel upload';\n",
              "  const cancelPromise = new Promise((resolve) => {\n",
              "    cancel.onclick = () => {\n",
              "      resolve(null);\n",
              "    };\n",
              "  });\n",
              "\n",
              "  // Wait for the user to pick the files.\n",
              "  const files = yield {\n",
              "    promise: Promise.race([pickedPromise, cancelPromise]),\n",
              "    response: {\n",
              "      action: 'starting',\n",
              "    }\n",
              "  };\n",
              "\n",
              "  cancel.remove();\n",
              "\n",
              "  // Disable the input element since further picks are not allowed.\n",
              "  inputElement.disabled = true;\n",
              "\n",
              "  if (!files) {\n",
              "    return {\n",
              "      response: {\n",
              "        action: 'complete',\n",
              "      }\n",
              "    };\n",
              "  }\n",
              "\n",
              "  for (const file of files) {\n",
              "    const li = document.createElement('li');\n",
              "    li.append(span(file.name, {fontWeight: 'bold'}));\n",
              "    li.append(span(\n",
              "        `(${file.type || 'n/a'}) - ${file.size} bytes, ` +\n",
              "        `last modified: ${\n",
              "            file.lastModifiedDate ? file.lastModifiedDate.toLocaleDateString() :\n",
              "                                    'n/a'} - `));\n",
              "    const percent = span('0% done');\n",
              "    li.appendChild(percent);\n",
              "\n",
              "    outputElement.appendChild(li);\n",
              "\n",
              "    const fileDataPromise = new Promise((resolve) => {\n",
              "      const reader = new FileReader();\n",
              "      reader.onload = (e) => {\n",
              "        resolve(e.target.result);\n",
              "      };\n",
              "      reader.readAsArrayBuffer(file);\n",
              "    });\n",
              "    // Wait for the data to be ready.\n",
              "    let fileData = yield {\n",
              "      promise: fileDataPromise,\n",
              "      response: {\n",
              "        action: 'continue',\n",
              "      }\n",
              "    };\n",
              "\n",
              "    // Use a chunked sending to avoid message size limits. See b/62115660.\n",
              "    let position = 0;\n",
              "    do {\n",
              "      const length = Math.min(fileData.byteLength - position, MAX_PAYLOAD_SIZE);\n",
              "      const chunk = new Uint8Array(fileData, position, length);\n",
              "      position += length;\n",
              "\n",
              "      const base64 = btoa(String.fromCharCode.apply(null, chunk));\n",
              "      yield {\n",
              "        response: {\n",
              "          action: 'append',\n",
              "          file: file.name,\n",
              "          data: base64,\n",
              "        },\n",
              "      };\n",
              "\n",
              "      let percentDone = fileData.byteLength === 0 ?\n",
              "          100 :\n",
              "          Math.round((position / fileData.byteLength) * 100);\n",
              "      percent.textContent = `${percentDone}% done`;\n",
              "\n",
              "    } while (position < fileData.byteLength);\n",
              "  }\n",
              "\n",
              "  // All done.\n",
              "  yield {\n",
              "    response: {\n",
              "      action: 'complete',\n",
              "    }\n",
              "  };\n",
              "}\n",
              "\n",
              "scope.google = scope.google || {};\n",
              "scope.google.colab = scope.google.colab || {};\n",
              "scope.google.colab._files = {\n",
              "  _uploadFiles,\n",
              "  _uploadFilesContinue,\n",
              "};\n",
              "})(self);\n",
              "</script> "
            ],
            "text/plain": [
              "<IPython.core.display.HTML object>"
            ]
          },
          "metadata": {},
          "output_type": "display_data"
        },
        {
          "name": "stdout",
          "output_type": "stream",
          "text": [
            "Saving record.wav to record.wav\n",
            "Добро пожаловать на замечательное занятие karpov courses Сегодня мы делаем с вами голосового ассистента\n"
          ]
        }
      ],
      "source": [
        "# Установка необходимых библиотек\n",
        "!pip install SpeechRecognition\n",
        "\n",
        "import os\n",
        "import speech_recognition as sr\n",
        "from google.colab import files\n",
        "\n",
        "def transcribe_audio(wav_file_path):\n",
        "    recognizer = sr.Recognizer()\n",
        "    with sr.AudioFile(wav_file_path) as source:\n",
        "        audio_data = recognizer.record(source)\n",
        "        try:\n",
        "            text = recognizer.recognize_google(audio_data, language=\"ru-RU\")\n",
        "            return text\n",
        "        except sr.UnknownValueError:\n",
        "            return \"Could not understand audio\"\n",
        "        except sr.RequestError as e:\n",
        "            return f\"Could not request results; {e}\"\n",
        "\n",
        "# Загрузите файл с локального компьютера\n",
        "uploaded = files.upload()\n",
        "\n",
        "# Предполагаем, что загружается только один файл\n",
        "if len(uploaded) == 1:\n",
        "    # Получаем имя файла\n",
        "    wav_file_path = next(iter(uploaded.keys()))\n",
        "\n",
        "    if wav_file_path.endswith('.wav'):\n",
        "        # Преобразование в текст\n",
        "        text = transcribe_audio(wav_file_path)\n",
        "        print(text)\n",
        "    else:\n",
        "        print(\"Пожалуйста, загрузите файл в формате WAV.\")\n",
        "else:\n",
        "    print(\"Пожалуйста, загрузите только один WAV файл.\")\n"
      ]
    },
    {
      "cell_type": "markdown",
      "metadata": {
        "id": "8QzFF2199DPh"
      },
      "source": [
        "# Генерация озвучки"
      ]
    },
    {
      "cell_type": "markdown",
      "metadata": {
        "id": "fqXEOewdlILw"
      },
      "source": [
        "Это запустите один раз за сессию использования"
      ]
    },
    {
      "cell_type": "code",
      "execution_count": null,
      "metadata": {
        "colab": {
          "base_uri": "https://localhost:8080/"
        },
        "id": "biSFVi189FZG",
        "outputId": "ec586c56-5093-415e-cf98-e4e32d670617"
      },
      "outputs": [
        {
          "name": "stdout",
          "output_type": "stream",
          "text": [
            "Collecting gtts\n",
            "  Downloading gTTS-2.5.3-py3-none-any.whl.metadata (4.1 kB)\n",
            "Requirement already satisfied: requests<3,>=2.27 in /usr/local/lib/python3.10/dist-packages (from gtts) (2.32.3)\n",
            "Requirement already satisfied: click<8.2,>=7.1 in /usr/local/lib/python3.10/dist-packages (from gtts) (8.1.7)\n",
            "Requirement already satisfied: charset-normalizer<4,>=2 in /usr/local/lib/python3.10/dist-packages (from requests<3,>=2.27->gtts) (3.3.2)\n",
            "Requirement already satisfied: idna<4,>=2.5 in /usr/local/lib/python3.10/dist-packages (from requests<3,>=2.27->gtts) (3.10)\n",
            "Requirement already satisfied: urllib3<3,>=1.21.1 in /usr/local/lib/python3.10/dist-packages (from requests<3,>=2.27->gtts) (2.2.3)\n",
            "Requirement already satisfied: certifi>=2017.4.17 in /usr/local/lib/python3.10/dist-packages (from requests<3,>=2.27->gtts) (2024.8.30)\n",
            "Downloading gTTS-2.5.3-py3-none-any.whl (29 kB)\n",
            "Installing collected packages: gtts\n",
            "Successfully installed gtts-2.5.3\n",
            "Requirement already satisfied: IPython in /usr/local/lib/python3.10/dist-packages (7.34.0)\n",
            "Requirement already satisfied: setuptools>=18.5 in /usr/local/lib/python3.10/dist-packages (from IPython) (71.0.4)\n",
            "Collecting jedi>=0.16 (from IPython)\n",
            "  Using cached jedi-0.19.1-py2.py3-none-any.whl.metadata (22 kB)\n",
            "Requirement already satisfied: decorator in /usr/local/lib/python3.10/dist-packages (from IPython) (4.4.2)\n",
            "Requirement already satisfied: pickleshare in /usr/local/lib/python3.10/dist-packages (from IPython) (0.7.5)\n",
            "Requirement already satisfied: traitlets>=4.2 in /usr/local/lib/python3.10/dist-packages (from IPython) (5.7.1)\n",
            "Requirement already satisfied: prompt-toolkit!=3.0.0,!=3.0.1,<3.1.0,>=2.0.0 in /usr/local/lib/python3.10/dist-packages (from IPython) (3.0.47)\n",
            "Requirement already satisfied: pygments in /usr/local/lib/python3.10/dist-packages (from IPython) (2.18.0)\n",
            "Requirement already satisfied: backcall in /usr/local/lib/python3.10/dist-packages (from IPython) (0.2.0)\n",
            "Requirement already satisfied: matplotlib-inline in /usr/local/lib/python3.10/dist-packages (from IPython) (0.1.7)\n",
            "Requirement already satisfied: pexpect>4.3 in /usr/local/lib/python3.10/dist-packages (from IPython) (4.9.0)\n",
            "Requirement already satisfied: parso<0.9.0,>=0.8.3 in /usr/local/lib/python3.10/dist-packages (from jedi>=0.16->IPython) (0.8.4)\n",
            "Requirement already satisfied: ptyprocess>=0.5 in /usr/local/lib/python3.10/dist-packages (from pexpect>4.3->IPython) (0.7.0)\n",
            "Requirement already satisfied: wcwidth in /usr/local/lib/python3.10/dist-packages (from prompt-toolkit!=3.0.0,!=3.0.1,<3.1.0,>=2.0.0->IPython) (0.2.13)\n",
            "Using cached jedi-0.19.1-py2.py3-none-any.whl (1.6 MB)\n",
            "Installing collected packages: jedi\n",
            "Successfully installed jedi-0.19.1\n"
          ]
        }
      ],
      "source": [
        "!pip install gtts\n",
        "!pip install IPython\n"
      ]
    },
    {
      "cell_type": "markdown",
      "metadata": {
        "id": "49uVCK_YlLbG"
      },
      "source": [
        "Если вы поменяете текст на тот, который вам нужен, вы получите другой результат"
      ]
    },
    {
      "cell_type": "code",
      "execution_count": null,
      "metadata": {
        "colab": {
          "base_uri": "https://localhost:8080/",
          "height": 76
        },
        "id": "pvd3tYHulNAS",
        "outputId": "b33af7f5-89ae-45b3-aebf-2371c96b90b9"
      },
      "outputs": [
        {
          "data": {
            "text/html": [
              "\n",
              "                <audio  controls=\"controls\" autoplay=\"autoplay\">\n",
              "                    <source src=\"data:audio/mpeg;base64,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\" type=\"audio/mpeg\" />\n",
              "                    Your browser does not support the audio element.\n",
              "                </audio>\n",
              "              "
            ],
            "text/plain": [
              "<IPython.lib.display.Audio object>"
            ]
          },
          "metadata": {},
          "output_type": "display_data"
        }
      ],
      "source": [
        "from gtts import gTTS\n",
        "from IPython.display import Audio\n",
        "\n",
        "def generate_and_play_audio(text, lang='ru'):\n",
        "    # Генерация озвучки\n",
        "    tts = gTTS(text=text, lang=lang, slow=False)\n",
        "    # Сохранение аудио в файл\n",
        "    tts.save(\"output.mp3\")\n",
        "    # Воспроизведение аудио\n",
        "    return Audio(\"output.mp3\", autoplay=True)\n",
        "\n",
        "text = \"Привет! Это тестовая генерация озвучки.\"\n",
        "audio = generate_and_play_audio(text)\n",
        "display(audio)\n",
        "\n"
      ]
    },
    {
      "cell_type": "markdown",
      "metadata": {
        "id": "a_jxYfVGqXUx"
      },
      "source": [
        "ЗАДАНИЕ"
      ]
    },
    {
      "cell_type": "markdown",
      "metadata": {
        "id": "cOuqbSOWyFWu"
      },
      "source": [
        "Разработайте сценарий или навык для голосового ассистента. Ваш сценарий может включать в себя основные функции голосового ассистента, такие как ответ на часто задаваемые вопросы, выполнение простых команд или предоставление полезной информации.\n",
        "\n",
        "Продумайте, как голосовой ассистент будет использовать анализ тональности, преобразование текста в речь и речь в текст для взаимодействия с пользователем.\n",
        "\n",
        "Реализуйте прототип!"
      ]
    },
    {
      "cell_type": "code",
      "execution_count": null,
      "metadata": {
        "id": "m6GR2v8-qYXI"
      },
      "outputs": [],
      "source": []
    }
  ],
  "metadata": {
    "colab": {
      "provenance": []
    },
    "kernelspec": {
      "display_name": "Python 3",
      "name": "python3"
    },
    "language_info": {
      "name": "python",
      "version": "3.12.7"
    },
    "widgets": {
      "application/vnd.jupyter.widget-state+json": {
        "08f834c57b4d477d85871a931d44cace": {
          "model_module": "@jupyter-widgets/base",
          "model_module_version": "1.2.0",
          "model_name": "LayoutModel",
          "state": {
            "_model_module": "@jupyter-widgets/base",
            "_model_module_version": "1.2.0",
            "_model_name": "LayoutModel",
            "_view_count": null,
            "_view_module": "@jupyter-widgets/base",
            "_view_module_version": "1.2.0",
            "_view_name": "LayoutView",
            "align_content": null,
            "align_items": null,
            "align_self": null,
            "border": null,
            "bottom": null,
            "display": null,
            "flex": null,
            "flex_flow": null,
            "grid_area": null,
            "grid_auto_columns": null,
            "grid_auto_flow": null,
            "grid_auto_rows": null,
            "grid_column": null,
            "grid_gap": null,
            "grid_row": null,
            "grid_template_areas": null,
            "grid_template_columns": null,
            "grid_template_rows": null,
            "height": null,
            "justify_content": null,
            "justify_items": null,
            "left": null,
            "margin": null,
            "max_height": null,
            "max_width": null,
            "min_height": null,
            "min_width": null,
            "object_fit": null,
            "object_position": null,
            "order": null,
            "overflow": null,
            "overflow_x": null,
            "overflow_y": null,
            "padding": null,
            "right": null,
            "top": null,
            "visibility": null,
            "width": null
          }
        },
        "0a039a4c3dac402eb3f930fd4af3883d": {
          "model_module": "@jupyter-widgets/controls",
          "model_module_version": "1.5.0",
          "model_name": "HTMLModel",
          "state": {
            "_dom_classes": [],
            "_model_module": "@jupyter-widgets/controls",
            "_model_module_version": "1.5.0",
            "_model_name": "HTMLModel",
            "_view_count": null,
            "_view_module": "@jupyter-widgets/controls",
            "_view_module_version": "1.5.0",
            "_view_name": "HTMLView",
            "description": "",
            "description_tooltip": null,
            "layout": "IPY_MODEL_08f834c57b4d477d85871a931d44cace",
            "placeholder": "​",
            "style": "IPY_MODEL_d020f4b988174664aa49b2acf059849e",
            "value": " 711M/711M [00:10&lt;00:00, 140MB/s]"
          }
        },
        "0b912af632f6432680773446675c034b": {
          "model_module": "@jupyter-widgets/base",
          "model_module_version": "1.2.0",
          "model_name": "LayoutModel",
          "state": {
            "_model_module": "@jupyter-widgets/base",
            "_model_module_version": "1.2.0",
            "_model_name": "LayoutModel",
            "_view_count": null,
            "_view_module": "@jupyter-widgets/base",
            "_view_module_version": "1.2.0",
            "_view_name": "LayoutView",
            "align_content": null,
            "align_items": null,
            "align_self": null,
            "border": null,
            "bottom": null,
            "display": null,
            "flex": null,
            "flex_flow": null,
            "grid_area": null,
            "grid_auto_columns": null,
            "grid_auto_flow": null,
            "grid_auto_rows": null,
            "grid_column": null,
            "grid_gap": null,
            "grid_row": null,
            "grid_template_areas": null,
            "grid_template_columns": null,
            "grid_template_rows": null,
            "height": null,
            "justify_content": null,
            "justify_items": null,
            "left": null,
            "margin": null,
            "max_height": null,
            "max_width": null,
            "min_height": null,
            "min_width": null,
            "object_fit": null,
            "object_position": null,
            "order": null,
            "overflow": null,
            "overflow_x": null,
            "overflow_y": null,
            "padding": null,
            "right": null,
            "top": null,
            "visibility": null,
            "width": null
          }
        },
        "0d108ec4864440e582a32e0f6d6cb325": {
          "model_module": "@jupyter-widgets/controls",
          "model_module_version": "1.5.0",
          "model_name": "DescriptionStyleModel",
          "state": {
            "_model_module": "@jupyter-widgets/controls",
            "_model_module_version": "1.5.0",
            "_model_name": "DescriptionStyleModel",
            "_view_count": null,
            "_view_module": "@jupyter-widgets/base",
            "_view_module_version": "1.2.0",
            "_view_name": "StyleView",
            "description_width": ""
          }
        },
        "122ea636f0a94cb4864ee6bb894cfd44": {
          "model_module": "@jupyter-widgets/controls",
          "model_module_version": "1.5.0",
          "model_name": "HTMLModel",
          "state": {
            "_dom_classes": [],
            "_model_module": "@jupyter-widgets/controls",
            "_model_module_version": "1.5.0",
            "_model_name": "HTMLModel",
            "_view_count": null,
            "_view_module": "@jupyter-widgets/controls",
            "_view_module_version": "1.5.0",
            "_view_name": "HTMLView",
            "description": "",
            "description_tooltip": null,
            "layout": "IPY_MODEL_d7d731da13514223adebb3dcb3baa7c1",
            "placeholder": "​",
            "style": "IPY_MODEL_68205ae60ee44cfd9537896bf4a6c445",
            "value": "vocab.txt: 100%"
          }
        },
        "174262440d8d49d8a7f53de49e9778ee": {
          "model_module": "@jupyter-widgets/base",
          "model_module_version": "1.2.0",
          "model_name": "LayoutModel",
          "state": {
            "_model_module": "@jupyter-widgets/base",
            "_model_module_version": "1.2.0",
            "_model_name": "LayoutModel",
            "_view_count": null,
            "_view_module": "@jupyter-widgets/base",
            "_view_module_version": "1.2.0",
            "_view_name": "LayoutView",
            "align_content": null,
            "align_items": null,
            "align_self": null,
            "border": null,
            "bottom": null,
            "display": null,
            "flex": null,
            "flex_flow": null,
            "grid_area": null,
            "grid_auto_columns": null,
            "grid_auto_flow": null,
            "grid_auto_rows": null,
            "grid_column": null,
            "grid_gap": null,
            "grid_row": null,
            "grid_template_areas": null,
            "grid_template_columns": null,
            "grid_template_rows": null,
            "height": null,
            "justify_content": null,
            "justify_items": null,
            "left": null,
            "margin": null,
            "max_height": null,
            "max_width": null,
            "min_height": null,
            "min_width": null,
            "object_fit": null,
            "object_position": null,
            "order": null,
            "overflow": null,
            "overflow_x": null,
            "overflow_y": null,
            "padding": null,
            "right": null,
            "top": null,
            "visibility": null,
            "width": null
          }
        },
        "21f6916678894701ac7ebe0609a2ae00": {
          "model_module": "@jupyter-widgets/base",
          "model_module_version": "1.2.0",
          "model_name": "LayoutModel",
          "state": {
            "_model_module": "@jupyter-widgets/base",
            "_model_module_version": "1.2.0",
            "_model_name": "LayoutModel",
            "_view_count": null,
            "_view_module": "@jupyter-widgets/base",
            "_view_module_version": "1.2.0",
            "_view_name": "LayoutView",
            "align_content": null,
            "align_items": null,
            "align_self": null,
            "border": null,
            "bottom": null,
            "display": null,
            "flex": null,
            "flex_flow": null,
            "grid_area": null,
            "grid_auto_columns": null,
            "grid_auto_flow": null,
            "grid_auto_rows": null,
            "grid_column": null,
            "grid_gap": null,
            "grid_row": null,
            "grid_template_areas": null,
            "grid_template_columns": null,
            "grid_template_rows": null,
            "height": null,
            "justify_content": null,
            "justify_items": null,
            "left": null,
            "margin": null,
            "max_height": null,
            "max_width": null,
            "min_height": null,
            "min_width": null,
            "object_fit": null,
            "object_position": null,
            "order": null,
            "overflow": null,
            "overflow_x": null,
            "overflow_y": null,
            "padding": null,
            "right": null,
            "top": null,
            "visibility": null,
            "width": null
          }
        },
        "3945f0b2583040a48532daf658ad3146": {
          "model_module": "@jupyter-widgets/base",
          "model_module_version": "1.2.0",
          "model_name": "LayoutModel",
          "state": {
            "_model_module": "@jupyter-widgets/base",
            "_model_module_version": "1.2.0",
            "_model_name": "LayoutModel",
            "_view_count": null,
            "_view_module": "@jupyter-widgets/base",
            "_view_module_version": "1.2.0",
            "_view_name": "LayoutView",
            "align_content": null,
            "align_items": null,
            "align_self": null,
            "border": null,
            "bottom": null,
            "display": null,
            "flex": null,
            "flex_flow": null,
            "grid_area": null,
            "grid_auto_columns": null,
            "grid_auto_flow": null,
            "grid_auto_rows": null,
            "grid_column": null,
            "grid_gap": null,
            "grid_row": null,
            "grid_template_areas": null,
            "grid_template_columns": null,
            "grid_template_rows": null,
            "height": null,
            "justify_content": null,
            "justify_items": null,
            "left": null,
            "margin": null,
            "max_height": null,
            "max_width": null,
            "min_height": null,
            "min_width": null,
            "object_fit": null,
            "object_position": null,
            "order": null,
            "overflow": null,
            "overflow_x": null,
            "overflow_y": null,
            "padding": null,
            "right": null,
            "top": null,
            "visibility": null,
            "width": null
          }
        },
        "3f0ce19a964d4778b4711fe3e4fc1cc3": {
          "model_module": "@jupyter-widgets/controls",
          "model_module_version": "1.5.0",
          "model_name": "HBoxModel",
          "state": {
            "_dom_classes": [],
            "_model_module": "@jupyter-widgets/controls",
            "_model_module_version": "1.5.0",
            "_model_name": "HBoxModel",
            "_view_count": null,
            "_view_module": "@jupyter-widgets/controls",
            "_view_module_version": "1.5.0",
            "_view_name": "HBoxView",
            "box_style": "",
            "children": [
              "IPY_MODEL_77280d2d2bb14c36bbe2425f3936b140",
              "IPY_MODEL_948cefea706a4857bbe5c08ab0916e4a",
              "IPY_MODEL_f3821c357bba442a945d3e07a71c0c62"
            ],
            "layout": "IPY_MODEL_a1732cca99544b9cac1020fdad6eea40"
          }
        },
        "4182fe90a43d47cda98d0a562d1dadd5": {
          "model_module": "@jupyter-widgets/base",
          "model_module_version": "1.2.0",
          "model_name": "LayoutModel",
          "state": {
            "_model_module": "@jupyter-widgets/base",
            "_model_module_version": "1.2.0",
            "_model_name": "LayoutModel",
            "_view_count": null,
            "_view_module": "@jupyter-widgets/base",
            "_view_module_version": "1.2.0",
            "_view_name": "LayoutView",
            "align_content": null,
            "align_items": null,
            "align_self": null,
            "border": null,
            "bottom": null,
            "display": null,
            "flex": null,
            "flex_flow": null,
            "grid_area": null,
            "grid_auto_columns": null,
            "grid_auto_flow": null,
            "grid_auto_rows": null,
            "grid_column": null,
            "grid_gap": null,
            "grid_row": null,
            "grid_template_areas": null,
            "grid_template_columns": null,
            "grid_template_rows": null,
            "height": null,
            "justify_content": null,
            "justify_items": null,
            "left": null,
            "margin": null,
            "max_height": null,
            "max_width": null,
            "min_height": null,
            "min_width": null,
            "object_fit": null,
            "object_position": null,
            "order": null,
            "overflow": null,
            "overflow_x": null,
            "overflow_y": null,
            "padding": null,
            "right": null,
            "top": null,
            "visibility": null,
            "width": null
          }
        },
        "41ff77ed80af49ee93e004483a854350": {
          "model_module": "@jupyter-widgets/base",
          "model_module_version": "1.2.0",
          "model_name": "LayoutModel",
          "state": {
            "_model_module": "@jupyter-widgets/base",
            "_model_module_version": "1.2.0",
            "_model_name": "LayoutModel",
            "_view_count": null,
            "_view_module": "@jupyter-widgets/base",
            "_view_module_version": "1.2.0",
            "_view_name": "LayoutView",
            "align_content": null,
            "align_items": null,
            "align_self": null,
            "border": null,
            "bottom": null,
            "display": null,
            "flex": null,
            "flex_flow": null,
            "grid_area": null,
            "grid_auto_columns": null,
            "grid_auto_flow": null,
            "grid_auto_rows": null,
            "grid_column": null,
            "grid_gap": null,
            "grid_row": null,
            "grid_template_areas": null,
            "grid_template_columns": null,
            "grid_template_rows": null,
            "height": null,
            "justify_content": null,
            "justify_items": null,
            "left": null,
            "margin": null,
            "max_height": null,
            "max_width": null,
            "min_height": null,
            "min_width": null,
            "object_fit": null,
            "object_position": null,
            "order": null,
            "overflow": null,
            "overflow_x": null,
            "overflow_y": null,
            "padding": null,
            "right": null,
            "top": null,
            "visibility": null,
            "width": null
          }
        },
        "432bc7aac1474d23b15ceef27eb92bbd": {
          "model_module": "@jupyter-widgets/base",
          "model_module_version": "1.2.0",
          "model_name": "LayoutModel",
          "state": {
            "_model_module": "@jupyter-widgets/base",
            "_model_module_version": "1.2.0",
            "_model_name": "LayoutModel",
            "_view_count": null,
            "_view_module": "@jupyter-widgets/base",
            "_view_module_version": "1.2.0",
            "_view_name": "LayoutView",
            "align_content": null,
            "align_items": null,
            "align_self": null,
            "border": null,
            "bottom": null,
            "display": null,
            "flex": null,
            "flex_flow": null,
            "grid_area": null,
            "grid_auto_columns": null,
            "grid_auto_flow": null,
            "grid_auto_rows": null,
            "grid_column": null,
            "grid_gap": null,
            "grid_row": null,
            "grid_template_areas": null,
            "grid_template_columns": null,
            "grid_template_rows": null,
            "height": null,
            "justify_content": null,
            "justify_items": null,
            "left": null,
            "margin": null,
            "max_height": null,
            "max_width": null,
            "min_height": null,
            "min_width": null,
            "object_fit": null,
            "object_position": null,
            "order": null,
            "overflow": null,
            "overflow_x": null,
            "overflow_y": null,
            "padding": null,
            "right": null,
            "top": null,
            "visibility": null,
            "width": null
          }
        },
        "463a7b5b2fd74cfc809aadd57b2ba2ac": {
          "model_module": "@jupyter-widgets/controls",
          "model_module_version": "1.5.0",
          "model_name": "DescriptionStyleModel",
          "state": {
            "_model_module": "@jupyter-widgets/controls",
            "_model_module_version": "1.5.0",
            "_model_name": "DescriptionStyleModel",
            "_view_count": null,
            "_view_module": "@jupyter-widgets/base",
            "_view_module_version": "1.2.0",
            "_view_name": "StyleView",
            "description_width": ""
          }
        },
        "4ce9b973d41f40b595eff4e433b50c40": {
          "model_module": "@jupyter-widgets/controls",
          "model_module_version": "1.5.0",
          "model_name": "HBoxModel",
          "state": {
            "_dom_classes": [],
            "_model_module": "@jupyter-widgets/controls",
            "_model_module_version": "1.5.0",
            "_model_name": "HBoxModel",
            "_view_count": null,
            "_view_module": "@jupyter-widgets/controls",
            "_view_module_version": "1.5.0",
            "_view_name": "HBoxView",
            "box_style": "",
            "children": [
              "IPY_MODEL_881eddf449994ac986dcd09db8864e02",
              "IPY_MODEL_4dfd21d39df04d7ca43ab4cc3c6d38e1",
              "IPY_MODEL_f24a3e69bdb64e70b08c3c30e8712bcc"
            ],
            "layout": "IPY_MODEL_3945f0b2583040a48532daf658ad3146"
          }
        },
        "4dfd21d39df04d7ca43ab4cc3c6d38e1": {
          "model_module": "@jupyter-widgets/controls",
          "model_module_version": "1.5.0",
          "model_name": "FloatProgressModel",
          "state": {
            "_dom_classes": [],
            "_model_module": "@jupyter-widgets/controls",
            "_model_module_version": "1.5.0",
            "_model_name": "FloatProgressModel",
            "_view_count": null,
            "_view_module": "@jupyter-widgets/controls",
            "_view_module_version": "1.5.0",
            "_view_name": "ProgressView",
            "bar_style": "success",
            "description": "",
            "description_tooltip": null,
            "layout": "IPY_MODEL_7ccd70f9d4744530a7957b25028b908b",
            "max": 499,
            "min": 0,
            "orientation": "horizontal",
            "style": "IPY_MODEL_876346044522446c9368168e5f0d57af",
            "value": 499
          }
        },
        "51100b63c5984534ab0b68d1f6c3c857": {
          "model_module": "@jupyter-widgets/controls",
          "model_module_version": "1.5.0",
          "model_name": "DescriptionStyleModel",
          "state": {
            "_model_module": "@jupyter-widgets/controls",
            "_model_module_version": "1.5.0",
            "_model_name": "DescriptionStyleModel",
            "_view_count": null,
            "_view_module": "@jupyter-widgets/base",
            "_view_module_version": "1.2.0",
            "_view_name": "StyleView",
            "description_width": ""
          }
        },
        "51aa046585384b8dade4db11a6c50e24": {
          "model_module": "@jupyter-widgets/controls",
          "model_module_version": "1.5.0",
          "model_name": "ProgressStyleModel",
          "state": {
            "_model_module": "@jupyter-widgets/controls",
            "_model_module_version": "1.5.0",
            "_model_name": "ProgressStyleModel",
            "_view_count": null,
            "_view_module": "@jupyter-widgets/base",
            "_view_module_version": "1.2.0",
            "_view_name": "StyleView",
            "bar_color": null,
            "description_width": ""
          }
        },
        "537cd48e2ac442ae8eaf8c9774dd3df4": {
          "model_module": "@jupyter-widgets/base",
          "model_module_version": "1.2.0",
          "model_name": "LayoutModel",
          "state": {
            "_model_module": "@jupyter-widgets/base",
            "_model_module_version": "1.2.0",
            "_model_name": "LayoutModel",
            "_view_count": null,
            "_view_module": "@jupyter-widgets/base",
            "_view_module_version": "1.2.0",
            "_view_name": "LayoutView",
            "align_content": null,
            "align_items": null,
            "align_self": null,
            "border": null,
            "bottom": null,
            "display": null,
            "flex": null,
            "flex_flow": null,
            "grid_area": null,
            "grid_auto_columns": null,
            "grid_auto_flow": null,
            "grid_auto_rows": null,
            "grid_column": null,
            "grid_gap": null,
            "grid_row": null,
            "grid_template_areas": null,
            "grid_template_columns": null,
            "grid_template_rows": null,
            "height": null,
            "justify_content": null,
            "justify_items": null,
            "left": null,
            "margin": null,
            "max_height": null,
            "max_width": null,
            "min_height": null,
            "min_width": null,
            "object_fit": null,
            "object_position": null,
            "order": null,
            "overflow": null,
            "overflow_x": null,
            "overflow_y": null,
            "padding": null,
            "right": null,
            "top": null,
            "visibility": null,
            "width": null
          }
        },
        "5a1a7158b71e4352913798e6db30eb96": {
          "model_module": "@jupyter-widgets/controls",
          "model_module_version": "1.5.0",
          "model_name": "FloatProgressModel",
          "state": {
            "_dom_classes": [],
            "_model_module": "@jupyter-widgets/controls",
            "_model_module_version": "1.5.0",
            "_model_name": "FloatProgressModel",
            "_view_count": null,
            "_view_module": "@jupyter-widgets/controls",
            "_view_module_version": "1.5.0",
            "_view_name": "ProgressView",
            "bar_style": "success",
            "description": "",
            "description_tooltip": null,
            "layout": "IPY_MODEL_21f6916678894701ac7ebe0609a2ae00",
            "max": 943,
            "min": 0,
            "orientation": "horizontal",
            "style": "IPY_MODEL_efe20f538dd74d1e894bd515bff81123",
            "value": 943
          }
        },
        "5ff62c1468124601bb579e5b66c0b65f": {
          "model_module": "@jupyter-widgets/controls",
          "model_module_version": "1.5.0",
          "model_name": "HBoxModel",
          "state": {
            "_dom_classes": [],
            "_model_module": "@jupyter-widgets/controls",
            "_model_module_version": "1.5.0",
            "_model_name": "HBoxModel",
            "_view_count": null,
            "_view_module": "@jupyter-widgets/controls",
            "_view_module_version": "1.5.0",
            "_view_name": "HBoxView",
            "box_style": "",
            "children": [
              "IPY_MODEL_122ea636f0a94cb4864ee6bb894cfd44",
              "IPY_MODEL_b1d5813cbf174f9fbcb2feb34ba0d849",
              "IPY_MODEL_f0285bf485a24955ab3a1ad417950d4d"
            ],
            "layout": "IPY_MODEL_c0d4694ca22244a68418a230f1c16ad6"
          }
        },
        "68205ae60ee44cfd9537896bf4a6c445": {
          "model_module": "@jupyter-widgets/controls",
          "model_module_version": "1.5.0",
          "model_name": "DescriptionStyleModel",
          "state": {
            "_model_module": "@jupyter-widgets/controls",
            "_model_module_version": "1.5.0",
            "_model_name": "DescriptionStyleModel",
            "_view_count": null,
            "_view_module": "@jupyter-widgets/base",
            "_view_module_version": "1.2.0",
            "_view_name": "StyleView",
            "description_width": ""
          }
        },
        "6efef8ad9a4b4a67984c5dc94f3836f9": {
          "model_module": "@jupyter-widgets/base",
          "model_module_version": "1.2.0",
          "model_name": "LayoutModel",
          "state": {
            "_model_module": "@jupyter-widgets/base",
            "_model_module_version": "1.2.0",
            "_model_name": "LayoutModel",
            "_view_count": null,
            "_view_module": "@jupyter-widgets/base",
            "_view_module_version": "1.2.0",
            "_view_name": "LayoutView",
            "align_content": null,
            "align_items": null,
            "align_self": null,
            "border": null,
            "bottom": null,
            "display": null,
            "flex": null,
            "flex_flow": null,
            "grid_area": null,
            "grid_auto_columns": null,
            "grid_auto_flow": null,
            "grid_auto_rows": null,
            "grid_column": null,
            "grid_gap": null,
            "grid_row": null,
            "grid_template_areas": null,
            "grid_template_columns": null,
            "grid_template_rows": null,
            "height": null,
            "justify_content": null,
            "justify_items": null,
            "left": null,
            "margin": null,
            "max_height": null,
            "max_width": null,
            "min_height": null,
            "min_width": null,
            "object_fit": null,
            "object_position": null,
            "order": null,
            "overflow": null,
            "overflow_x": null,
            "overflow_y": null,
            "padding": null,
            "right": null,
            "top": null,
            "visibility": null,
            "width": null
          }
        },
        "75b16b2f55e84074a15ea54be7028209": {
          "model_module": "@jupyter-widgets/base",
          "model_module_version": "1.2.0",
          "model_name": "LayoutModel",
          "state": {
            "_model_module": "@jupyter-widgets/base",
            "_model_module_version": "1.2.0",
            "_model_name": "LayoutModel",
            "_view_count": null,
            "_view_module": "@jupyter-widgets/base",
            "_view_module_version": "1.2.0",
            "_view_name": "LayoutView",
            "align_content": null,
            "align_items": null,
            "align_self": null,
            "border": null,
            "bottom": null,
            "display": null,
            "flex": null,
            "flex_flow": null,
            "grid_area": null,
            "grid_auto_columns": null,
            "grid_auto_flow": null,
            "grid_auto_rows": null,
            "grid_column": null,
            "grid_gap": null,
            "grid_row": null,
            "grid_template_areas": null,
            "grid_template_columns": null,
            "grid_template_rows": null,
            "height": null,
            "justify_content": null,
            "justify_items": null,
            "left": null,
            "margin": null,
            "max_height": null,
            "max_width": null,
            "min_height": null,
            "min_width": null,
            "object_fit": null,
            "object_position": null,
            "order": null,
            "overflow": null,
            "overflow_x": null,
            "overflow_y": null,
            "padding": null,
            "right": null,
            "top": null,
            "visibility": null,
            "width": null
          }
        },
        "77280d2d2bb14c36bbe2425f3936b140": {
          "model_module": "@jupyter-widgets/controls",
          "model_module_version": "1.5.0",
          "model_name": "HTMLModel",
          "state": {
            "_dom_classes": [],
            "_model_module": "@jupyter-widgets/controls",
            "_model_module_version": "1.5.0",
            "_model_name": "HTMLModel",
            "_view_count": null,
            "_view_module": "@jupyter-widgets/controls",
            "_view_module_version": "1.5.0",
            "_view_name": "HTMLView",
            "description": "",
            "description_tooltip": null,
            "layout": "IPY_MODEL_75b16b2f55e84074a15ea54be7028209",
            "placeholder": "​",
            "style": "IPY_MODEL_ca4a732b29014ecb87481d06bcfdb04d",
            "value": "special_tokens_map.json: 100%"
          }
        },
        "7ccd70f9d4744530a7957b25028b908b": {
          "model_module": "@jupyter-widgets/base",
          "model_module_version": "1.2.0",
          "model_name": "LayoutModel",
          "state": {
            "_model_module": "@jupyter-widgets/base",
            "_model_module_version": "1.2.0",
            "_model_name": "LayoutModel",
            "_view_count": null,
            "_view_module": "@jupyter-widgets/base",
            "_view_module_version": "1.2.0",
            "_view_name": "LayoutView",
            "align_content": null,
            "align_items": null,
            "align_self": null,
            "border": null,
            "bottom": null,
            "display": null,
            "flex": null,
            "flex_flow": null,
            "grid_area": null,
            "grid_auto_columns": null,
            "grid_auto_flow": null,
            "grid_auto_rows": null,
            "grid_column": null,
            "grid_gap": null,
            "grid_row": null,
            "grid_template_areas": null,
            "grid_template_columns": null,
            "grid_template_rows": null,
            "height": null,
            "justify_content": null,
            "justify_items": null,
            "left": null,
            "margin": null,
            "max_height": null,
            "max_width": null,
            "min_height": null,
            "min_width": null,
            "object_fit": null,
            "object_position": null,
            "order": null,
            "overflow": null,
            "overflow_x": null,
            "overflow_y": null,
            "padding": null,
            "right": null,
            "top": null,
            "visibility": null,
            "width": null
          }
        },
        "7de7dfb9bfa44b69b61430d4d239b4c9": {
          "model_module": "@jupyter-widgets/base",
          "model_module_version": "1.2.0",
          "model_name": "LayoutModel",
          "state": {
            "_model_module": "@jupyter-widgets/base",
            "_model_module_version": "1.2.0",
            "_model_name": "LayoutModel",
            "_view_count": null,
            "_view_module": "@jupyter-widgets/base",
            "_view_module_version": "1.2.0",
            "_view_name": "LayoutView",
            "align_content": null,
            "align_items": null,
            "align_self": null,
            "border": null,
            "bottom": null,
            "display": null,
            "flex": null,
            "flex_flow": null,
            "grid_area": null,
            "grid_auto_columns": null,
            "grid_auto_flow": null,
            "grid_auto_rows": null,
            "grid_column": null,
            "grid_gap": null,
            "grid_row": null,
            "grid_template_areas": null,
            "grid_template_columns": null,
            "grid_template_rows": null,
            "height": null,
            "justify_content": null,
            "justify_items": null,
            "left": null,
            "margin": null,
            "max_height": null,
            "max_width": null,
            "min_height": null,
            "min_width": null,
            "object_fit": null,
            "object_position": null,
            "order": null,
            "overflow": null,
            "overflow_x": null,
            "overflow_y": null,
            "padding": null,
            "right": null,
            "top": null,
            "visibility": null,
            "width": null
          }
        },
        "876346044522446c9368168e5f0d57af": {
          "model_module": "@jupyter-widgets/controls",
          "model_module_version": "1.5.0",
          "model_name": "ProgressStyleModel",
          "state": {
            "_model_module": "@jupyter-widgets/controls",
            "_model_module_version": "1.5.0",
            "_model_name": "ProgressStyleModel",
            "_view_count": null,
            "_view_module": "@jupyter-widgets/base",
            "_view_module_version": "1.2.0",
            "_view_name": "StyleView",
            "bar_color": null,
            "description_width": ""
          }
        },
        "881eddf449994ac986dcd09db8864e02": {
          "model_module": "@jupyter-widgets/controls",
          "model_module_version": "1.5.0",
          "model_name": "HTMLModel",
          "state": {
            "_dom_classes": [],
            "_model_module": "@jupyter-widgets/controls",
            "_model_module_version": "1.5.0",
            "_model_name": "HTMLModel",
            "_view_count": null,
            "_view_module": "@jupyter-widgets/controls",
            "_view_module_version": "1.5.0",
            "_view_name": "HTMLView",
            "description": "",
            "description_tooltip": null,
            "layout": "IPY_MODEL_537cd48e2ac442ae8eaf8c9774dd3df4",
            "placeholder": "​",
            "style": "IPY_MODEL_463a7b5b2fd74cfc809aadd57b2ba2ac",
            "value": "tokenizer_config.json: 100%"
          }
        },
        "8d4a996f7f8347cc817504f23a02f814": {
          "model_module": "@jupyter-widgets/controls",
          "model_module_version": "1.5.0",
          "model_name": "DescriptionStyleModel",
          "state": {
            "_model_module": "@jupyter-widgets/controls",
            "_model_module_version": "1.5.0",
            "_model_name": "DescriptionStyleModel",
            "_view_count": null,
            "_view_module": "@jupyter-widgets/base",
            "_view_module_version": "1.2.0",
            "_view_name": "StyleView",
            "description_width": ""
          }
        },
        "8d6b3546f8f14848868bb8a92e34f0bf": {
          "model_module": "@jupyter-widgets/controls",
          "model_module_version": "1.5.0",
          "model_name": "HBoxModel",
          "state": {
            "_dom_classes": [],
            "_model_module": "@jupyter-widgets/controls",
            "_model_module_version": "1.5.0",
            "_model_name": "HBoxModel",
            "_view_count": null,
            "_view_module": "@jupyter-widgets/controls",
            "_view_module_version": "1.5.0",
            "_view_name": "HBoxView",
            "box_style": "",
            "children": [
              "IPY_MODEL_f6f99cecb122461c97d95a2ce55693b3",
              "IPY_MODEL_f4728b131a534ee39895f345a5fdd0ee",
              "IPY_MODEL_0a039a4c3dac402eb3f930fd4af3883d"
            ],
            "layout": "IPY_MODEL_6efef8ad9a4b4a67984c5dc94f3836f9"
          }
        },
        "948cefea706a4857bbe5c08ab0916e4a": {
          "model_module": "@jupyter-widgets/controls",
          "model_module_version": "1.5.0",
          "model_name": "FloatProgressModel",
          "state": {
            "_dom_classes": [],
            "_model_module": "@jupyter-widgets/controls",
            "_model_module_version": "1.5.0",
            "_model_name": "FloatProgressModel",
            "_view_count": null,
            "_view_module": "@jupyter-widgets/controls",
            "_view_module_version": "1.5.0",
            "_view_name": "ProgressView",
            "bar_style": "success",
            "description": "",
            "description_tooltip": null,
            "layout": "IPY_MODEL_9da10b1f345d4fddad2682549652904e",
            "max": 112,
            "min": 0,
            "orientation": "horizontal",
            "style": "IPY_MODEL_b292d9cded0c49ad87e2161af7470735",
            "value": 112
          }
        },
        "999e8b967a054916bad77466f1e15b4e": {
          "model_module": "@jupyter-widgets/base",
          "model_module_version": "1.2.0",
          "model_name": "LayoutModel",
          "state": {
            "_model_module": "@jupyter-widgets/base",
            "_model_module_version": "1.2.0",
            "_model_name": "LayoutModel",
            "_view_count": null,
            "_view_module": "@jupyter-widgets/base",
            "_view_module_version": "1.2.0",
            "_view_name": "LayoutView",
            "align_content": null,
            "align_items": null,
            "align_self": null,
            "border": null,
            "bottom": null,
            "display": null,
            "flex": null,
            "flex_flow": null,
            "grid_area": null,
            "grid_auto_columns": null,
            "grid_auto_flow": null,
            "grid_auto_rows": null,
            "grid_column": null,
            "grid_gap": null,
            "grid_row": null,
            "grid_template_areas": null,
            "grid_template_columns": null,
            "grid_template_rows": null,
            "height": null,
            "justify_content": null,
            "justify_items": null,
            "left": null,
            "margin": null,
            "max_height": null,
            "max_width": null,
            "min_height": null,
            "min_width": null,
            "object_fit": null,
            "object_position": null,
            "order": null,
            "overflow": null,
            "overflow_x": null,
            "overflow_y": null,
            "padding": null,
            "right": null,
            "top": null,
            "visibility": null,
            "width": null
          }
        },
        "9da10b1f345d4fddad2682549652904e": {
          "model_module": "@jupyter-widgets/base",
          "model_module_version": "1.2.0",
          "model_name": "LayoutModel",
          "state": {
            "_model_module": "@jupyter-widgets/base",
            "_model_module_version": "1.2.0",
            "_model_name": "LayoutModel",
            "_view_count": null,
            "_view_module": "@jupyter-widgets/base",
            "_view_module_version": "1.2.0",
            "_view_name": "LayoutView",
            "align_content": null,
            "align_items": null,
            "align_self": null,
            "border": null,
            "bottom": null,
            "display": null,
            "flex": null,
            "flex_flow": null,
            "grid_area": null,
            "grid_auto_columns": null,
            "grid_auto_flow": null,
            "grid_auto_rows": null,
            "grid_column": null,
            "grid_gap": null,
            "grid_row": null,
            "grid_template_areas": null,
            "grid_template_columns": null,
            "grid_template_rows": null,
            "height": null,
            "justify_content": null,
            "justify_items": null,
            "left": null,
            "margin": null,
            "max_height": null,
            "max_width": null,
            "min_height": null,
            "min_width": null,
            "object_fit": null,
            "object_position": null,
            "order": null,
            "overflow": null,
            "overflow_x": null,
            "overflow_y": null,
            "padding": null,
            "right": null,
            "top": null,
            "visibility": null,
            "width": null
          }
        },
        "a1732cca99544b9cac1020fdad6eea40": {
          "model_module": "@jupyter-widgets/base",
          "model_module_version": "1.2.0",
          "model_name": "LayoutModel",
          "state": {
            "_model_module": "@jupyter-widgets/base",
            "_model_module_version": "1.2.0",
            "_model_name": "LayoutModel",
            "_view_count": null,
            "_view_module": "@jupyter-widgets/base",
            "_view_module_version": "1.2.0",
            "_view_name": "LayoutView",
            "align_content": null,
            "align_items": null,
            "align_self": null,
            "border": null,
            "bottom": null,
            "display": null,
            "flex": null,
            "flex_flow": null,
            "grid_area": null,
            "grid_auto_columns": null,
            "grid_auto_flow": null,
            "grid_auto_rows": null,
            "grid_column": null,
            "grid_gap": null,
            "grid_row": null,
            "grid_template_areas": null,
            "grid_template_columns": null,
            "grid_template_rows": null,
            "height": null,
            "justify_content": null,
            "justify_items": null,
            "left": null,
            "margin": null,
            "max_height": null,
            "max_width": null,
            "min_height": null,
            "min_width": null,
            "object_fit": null,
            "object_position": null,
            "order": null,
            "overflow": null,
            "overflow_x": null,
            "overflow_y": null,
            "padding": null,
            "right": null,
            "top": null,
            "visibility": null,
            "width": null
          }
        },
        "b16a0648232b49fbbb1292dfaa3b2605": {
          "model_module": "@jupyter-widgets/controls",
          "model_module_version": "1.5.0",
          "model_name": "HBoxModel",
          "state": {
            "_dom_classes": [],
            "_model_module": "@jupyter-widgets/controls",
            "_model_module_version": "1.5.0",
            "_model_name": "HBoxModel",
            "_view_count": null,
            "_view_module": "@jupyter-widgets/controls",
            "_view_module_version": "1.5.0",
            "_view_name": "HBoxView",
            "box_style": "",
            "children": [
              "IPY_MODEL_e030536e38e34e5c9c42f09346b04fc5",
              "IPY_MODEL_5a1a7158b71e4352913798e6db30eb96",
              "IPY_MODEL_e6f2f00c57074916a50fc72a071b251b"
            ],
            "layout": "IPY_MODEL_174262440d8d49d8a7f53de49e9778ee"
          }
        },
        "b1d5813cbf174f9fbcb2feb34ba0d849": {
          "model_module": "@jupyter-widgets/controls",
          "model_module_version": "1.5.0",
          "model_name": "FloatProgressModel",
          "state": {
            "_dom_classes": [],
            "_model_module": "@jupyter-widgets/controls",
            "_model_module_version": "1.5.0",
            "_model_name": "FloatProgressModel",
            "_view_count": null,
            "_view_module": "@jupyter-widgets/controls",
            "_view_module_version": "1.5.0",
            "_view_name": "ProgressView",
            "bar_style": "success",
            "description": "",
            "description_tooltip": null,
            "layout": "IPY_MODEL_7de7dfb9bfa44b69b61430d4d239b4c9",
            "max": 1404983,
            "min": 0,
            "orientation": "horizontal",
            "style": "IPY_MODEL_e97a2857ba9c4aa9924b84e8bc648564",
            "value": 1404983
          }
        },
        "b292d9cded0c49ad87e2161af7470735": {
          "model_module": "@jupyter-widgets/controls",
          "model_module_version": "1.5.0",
          "model_name": "ProgressStyleModel",
          "state": {
            "_model_module": "@jupyter-widgets/controls",
            "_model_module_version": "1.5.0",
            "_model_name": "ProgressStyleModel",
            "_view_count": null,
            "_view_module": "@jupyter-widgets/base",
            "_view_module_version": "1.2.0",
            "_view_name": "StyleView",
            "bar_color": null,
            "description_width": ""
          }
        },
        "c0d4694ca22244a68418a230f1c16ad6": {
          "model_module": "@jupyter-widgets/base",
          "model_module_version": "1.2.0",
          "model_name": "LayoutModel",
          "state": {
            "_model_module": "@jupyter-widgets/base",
            "_model_module_version": "1.2.0",
            "_model_name": "LayoutModel",
            "_view_count": null,
            "_view_module": "@jupyter-widgets/base",
            "_view_module_version": "1.2.0",
            "_view_name": "LayoutView",
            "align_content": null,
            "align_items": null,
            "align_self": null,
            "border": null,
            "bottom": null,
            "display": null,
            "flex": null,
            "flex_flow": null,
            "grid_area": null,
            "grid_auto_columns": null,
            "grid_auto_flow": null,
            "grid_auto_rows": null,
            "grid_column": null,
            "grid_gap": null,
            "grid_row": null,
            "grid_template_areas": null,
            "grid_template_columns": null,
            "grid_template_rows": null,
            "height": null,
            "justify_content": null,
            "justify_items": null,
            "left": null,
            "margin": null,
            "max_height": null,
            "max_width": null,
            "min_height": null,
            "min_width": null,
            "object_fit": null,
            "object_position": null,
            "order": null,
            "overflow": null,
            "overflow_x": null,
            "overflow_y": null,
            "padding": null,
            "right": null,
            "top": null,
            "visibility": null,
            "width": null
          }
        },
        "c37bbd1734084308811729922649f72f": {
          "model_module": "@jupyter-widgets/controls",
          "model_module_version": "1.5.0",
          "model_name": "DescriptionStyleModel",
          "state": {
            "_model_module": "@jupyter-widgets/controls",
            "_model_module_version": "1.5.0",
            "_model_name": "DescriptionStyleModel",
            "_view_count": null,
            "_view_module": "@jupyter-widgets/base",
            "_view_module_version": "1.2.0",
            "_view_name": "StyleView",
            "description_width": ""
          }
        },
        "ca4a732b29014ecb87481d06bcfdb04d": {
          "model_module": "@jupyter-widgets/controls",
          "model_module_version": "1.5.0",
          "model_name": "DescriptionStyleModel",
          "state": {
            "_model_module": "@jupyter-widgets/controls",
            "_model_module_version": "1.5.0",
            "_model_name": "DescriptionStyleModel",
            "_view_count": null,
            "_view_module": "@jupyter-widgets/base",
            "_view_module_version": "1.2.0",
            "_view_name": "StyleView",
            "description_width": ""
          }
        },
        "d020f4b988174664aa49b2acf059849e": {
          "model_module": "@jupyter-widgets/controls",
          "model_module_version": "1.5.0",
          "model_name": "DescriptionStyleModel",
          "state": {
            "_model_module": "@jupyter-widgets/controls",
            "_model_module_version": "1.5.0",
            "_model_name": "DescriptionStyleModel",
            "_view_count": null,
            "_view_module": "@jupyter-widgets/base",
            "_view_module_version": "1.2.0",
            "_view_name": "StyleView",
            "description_width": ""
          }
        },
        "d0926f556f33426383e2d17e494fd5ba": {
          "model_module": "@jupyter-widgets/controls",
          "model_module_version": "1.5.0",
          "model_name": "DescriptionStyleModel",
          "state": {
            "_model_module": "@jupyter-widgets/controls",
            "_model_module_version": "1.5.0",
            "_model_name": "DescriptionStyleModel",
            "_view_count": null,
            "_view_module": "@jupyter-widgets/base",
            "_view_module_version": "1.2.0",
            "_view_name": "StyleView",
            "description_width": ""
          }
        },
        "d33904da497b4a9c831684669471524d": {
          "model_module": "@jupyter-widgets/base",
          "model_module_version": "1.2.0",
          "model_name": "LayoutModel",
          "state": {
            "_model_module": "@jupyter-widgets/base",
            "_model_module_version": "1.2.0",
            "_model_name": "LayoutModel",
            "_view_count": null,
            "_view_module": "@jupyter-widgets/base",
            "_view_module_version": "1.2.0",
            "_view_name": "LayoutView",
            "align_content": null,
            "align_items": null,
            "align_self": null,
            "border": null,
            "bottom": null,
            "display": null,
            "flex": null,
            "flex_flow": null,
            "grid_area": null,
            "grid_auto_columns": null,
            "grid_auto_flow": null,
            "grid_auto_rows": null,
            "grid_column": null,
            "grid_gap": null,
            "grid_row": null,
            "grid_template_areas": null,
            "grid_template_columns": null,
            "grid_template_rows": null,
            "height": null,
            "justify_content": null,
            "justify_items": null,
            "left": null,
            "margin": null,
            "max_height": null,
            "max_width": null,
            "min_height": null,
            "min_width": null,
            "object_fit": null,
            "object_position": null,
            "order": null,
            "overflow": null,
            "overflow_x": null,
            "overflow_y": null,
            "padding": null,
            "right": null,
            "top": null,
            "visibility": null,
            "width": null
          }
        },
        "d6c8b699909440d89850e56a8e1030e1": {
          "model_module": "@jupyter-widgets/base",
          "model_module_version": "1.2.0",
          "model_name": "LayoutModel",
          "state": {
            "_model_module": "@jupyter-widgets/base",
            "_model_module_version": "1.2.0",
            "_model_name": "LayoutModel",
            "_view_count": null,
            "_view_module": "@jupyter-widgets/base",
            "_view_module_version": "1.2.0",
            "_view_name": "LayoutView",
            "align_content": null,
            "align_items": null,
            "align_self": null,
            "border": null,
            "bottom": null,
            "display": null,
            "flex": null,
            "flex_flow": null,
            "grid_area": null,
            "grid_auto_columns": null,
            "grid_auto_flow": null,
            "grid_auto_rows": null,
            "grid_column": null,
            "grid_gap": null,
            "grid_row": null,
            "grid_template_areas": null,
            "grid_template_columns": null,
            "grid_template_rows": null,
            "height": null,
            "justify_content": null,
            "justify_items": null,
            "left": null,
            "margin": null,
            "max_height": null,
            "max_width": null,
            "min_height": null,
            "min_width": null,
            "object_fit": null,
            "object_position": null,
            "order": null,
            "overflow": null,
            "overflow_x": null,
            "overflow_y": null,
            "padding": null,
            "right": null,
            "top": null,
            "visibility": null,
            "width": null
          }
        },
        "d7d731da13514223adebb3dcb3baa7c1": {
          "model_module": "@jupyter-widgets/base",
          "model_module_version": "1.2.0",
          "model_name": "LayoutModel",
          "state": {
            "_model_module": "@jupyter-widgets/base",
            "_model_module_version": "1.2.0",
            "_model_name": "LayoutModel",
            "_view_count": null,
            "_view_module": "@jupyter-widgets/base",
            "_view_module_version": "1.2.0",
            "_view_name": "LayoutView",
            "align_content": null,
            "align_items": null,
            "align_self": null,
            "border": null,
            "bottom": null,
            "display": null,
            "flex": null,
            "flex_flow": null,
            "grid_area": null,
            "grid_auto_columns": null,
            "grid_auto_flow": null,
            "grid_auto_rows": null,
            "grid_column": null,
            "grid_gap": null,
            "grid_row": null,
            "grid_template_areas": null,
            "grid_template_columns": null,
            "grid_template_rows": null,
            "height": null,
            "justify_content": null,
            "justify_items": null,
            "left": null,
            "margin": null,
            "max_height": null,
            "max_width": null,
            "min_height": null,
            "min_width": null,
            "object_fit": null,
            "object_position": null,
            "order": null,
            "overflow": null,
            "overflow_x": null,
            "overflow_y": null,
            "padding": null,
            "right": null,
            "top": null,
            "visibility": null,
            "width": null
          }
        },
        "e030536e38e34e5c9c42f09346b04fc5": {
          "model_module": "@jupyter-widgets/controls",
          "model_module_version": "1.5.0",
          "model_name": "HTMLModel",
          "state": {
            "_dom_classes": [],
            "_model_module": "@jupyter-widgets/controls",
            "_model_module_version": "1.5.0",
            "_model_name": "HTMLModel",
            "_view_count": null,
            "_view_module": "@jupyter-widgets/controls",
            "_view_module_version": "1.5.0",
            "_view_name": "HTMLView",
            "description": "",
            "description_tooltip": null,
            "layout": "IPY_MODEL_4182fe90a43d47cda98d0a562d1dadd5",
            "placeholder": "​",
            "style": "IPY_MODEL_e12e2cd22e10443bbcea0f6187ca822e",
            "value": "config.json: 100%"
          }
        },
        "e12e2cd22e10443bbcea0f6187ca822e": {
          "model_module": "@jupyter-widgets/controls",
          "model_module_version": "1.5.0",
          "model_name": "DescriptionStyleModel",
          "state": {
            "_model_module": "@jupyter-widgets/controls",
            "_model_module_version": "1.5.0",
            "_model_name": "DescriptionStyleModel",
            "_view_count": null,
            "_view_module": "@jupyter-widgets/base",
            "_view_module_version": "1.2.0",
            "_view_name": "StyleView",
            "description_width": ""
          }
        },
        "e6f2f00c57074916a50fc72a071b251b": {
          "model_module": "@jupyter-widgets/controls",
          "model_module_version": "1.5.0",
          "model_name": "HTMLModel",
          "state": {
            "_dom_classes": [],
            "_model_module": "@jupyter-widgets/controls",
            "_model_module_version": "1.5.0",
            "_model_name": "HTMLModel",
            "_view_count": null,
            "_view_module": "@jupyter-widgets/controls",
            "_view_module_version": "1.5.0",
            "_view_name": "HTMLView",
            "description": "",
            "description_tooltip": null,
            "layout": "IPY_MODEL_41ff77ed80af49ee93e004483a854350",
            "placeholder": "​",
            "style": "IPY_MODEL_0d108ec4864440e582a32e0f6d6cb325",
            "value": " 943/943 [00:00&lt;00:00, 18.4kB/s]"
          }
        },
        "e97a2857ba9c4aa9924b84e8bc648564": {
          "model_module": "@jupyter-widgets/controls",
          "model_module_version": "1.5.0",
          "model_name": "ProgressStyleModel",
          "state": {
            "_model_module": "@jupyter-widgets/controls",
            "_model_module_version": "1.5.0",
            "_model_name": "ProgressStyleModel",
            "_view_count": null,
            "_view_module": "@jupyter-widgets/base",
            "_view_module_version": "1.2.0",
            "_view_name": "StyleView",
            "bar_color": null,
            "description_width": ""
          }
        },
        "efe20f538dd74d1e894bd515bff81123": {
          "model_module": "@jupyter-widgets/controls",
          "model_module_version": "1.5.0",
          "model_name": "ProgressStyleModel",
          "state": {
            "_model_module": "@jupyter-widgets/controls",
            "_model_module_version": "1.5.0",
            "_model_name": "ProgressStyleModel",
            "_view_count": null,
            "_view_module": "@jupyter-widgets/base",
            "_view_module_version": "1.2.0",
            "_view_name": "StyleView",
            "bar_color": null,
            "description_width": ""
          }
        },
        "f0285bf485a24955ab3a1ad417950d4d": {
          "model_module": "@jupyter-widgets/controls",
          "model_module_version": "1.5.0",
          "model_name": "HTMLModel",
          "state": {
            "_dom_classes": [],
            "_model_module": "@jupyter-widgets/controls",
            "_model_module_version": "1.5.0",
            "_model_name": "HTMLModel",
            "_view_count": null,
            "_view_module": "@jupyter-widgets/controls",
            "_view_module_version": "1.5.0",
            "_view_name": "HTMLView",
            "description": "",
            "description_tooltip": null,
            "layout": "IPY_MODEL_0b912af632f6432680773446675c034b",
            "placeholder": "​",
            "style": "IPY_MODEL_d0926f556f33426383e2d17e494fd5ba",
            "value": " 1.40M/1.40M [00:00&lt;00:00, 14.1MB/s]"
          }
        },
        "f24a3e69bdb64e70b08c3c30e8712bcc": {
          "model_module": "@jupyter-widgets/controls",
          "model_module_version": "1.5.0",
          "model_name": "HTMLModel",
          "state": {
            "_dom_classes": [],
            "_model_module": "@jupyter-widgets/controls",
            "_model_module_version": "1.5.0",
            "_model_name": "HTMLModel",
            "_view_count": null,
            "_view_module": "@jupyter-widgets/controls",
            "_view_module_version": "1.5.0",
            "_view_name": "HTMLView",
            "description": "",
            "description_tooltip": null,
            "layout": "IPY_MODEL_d33904da497b4a9c831684669471524d",
            "placeholder": "​",
            "style": "IPY_MODEL_8d4a996f7f8347cc817504f23a02f814",
            "value": " 499/499 [00:00&lt;00:00, 14.7kB/s]"
          }
        },
        "f3821c357bba442a945d3e07a71c0c62": {
          "model_module": "@jupyter-widgets/controls",
          "model_module_version": "1.5.0",
          "model_name": "HTMLModel",
          "state": {
            "_dom_classes": [],
            "_model_module": "@jupyter-widgets/controls",
            "_model_module_version": "1.5.0",
            "_model_name": "HTMLModel",
            "_view_count": null,
            "_view_module": "@jupyter-widgets/controls",
            "_view_module_version": "1.5.0",
            "_view_name": "HTMLView",
            "description": "",
            "description_tooltip": null,
            "layout": "IPY_MODEL_999e8b967a054916bad77466f1e15b4e",
            "placeholder": "​",
            "style": "IPY_MODEL_51100b63c5984534ab0b68d1f6c3c857",
            "value": " 112/112 [00:00&lt;00:00, 4.56kB/s]"
          }
        },
        "f4728b131a534ee39895f345a5fdd0ee": {
          "model_module": "@jupyter-widgets/controls",
          "model_module_version": "1.5.0",
          "model_name": "FloatProgressModel",
          "state": {
            "_dom_classes": [],
            "_model_module": "@jupyter-widgets/controls",
            "_model_module_version": "1.5.0",
            "_model_name": "FloatProgressModel",
            "_view_count": null,
            "_view_module": "@jupyter-widgets/controls",
            "_view_module_version": "1.5.0",
            "_view_name": "ProgressView",
            "bar_style": "success",
            "description": "",
            "description_tooltip": null,
            "layout": "IPY_MODEL_d6c8b699909440d89850e56a8e1030e1",
            "max": 711450722,
            "min": 0,
            "orientation": "horizontal",
            "style": "IPY_MODEL_51aa046585384b8dade4db11a6c50e24",
            "value": 711450722
          }
        },
        "f6f99cecb122461c97d95a2ce55693b3": {
          "model_module": "@jupyter-widgets/controls",
          "model_module_version": "1.5.0",
          "model_name": "HTMLModel",
          "state": {
            "_dom_classes": [],
            "_model_module": "@jupyter-widgets/controls",
            "_model_module_version": "1.5.0",
            "_model_name": "HTMLModel",
            "_view_count": null,
            "_view_module": "@jupyter-widgets/controls",
            "_view_module_version": "1.5.0",
            "_view_name": "HTMLView",
            "description": "",
            "description_tooltip": null,
            "layout": "IPY_MODEL_432bc7aac1474d23b15ceef27eb92bbd",
            "placeholder": "​",
            "style": "IPY_MODEL_c37bbd1734084308811729922649f72f",
            "value": "model.safetensors: 100%"
          }
        }
      }
    }
  },
  "nbformat": 4,
  "nbformat_minor": 0
}
